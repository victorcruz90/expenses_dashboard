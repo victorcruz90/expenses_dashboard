{
 "cells": [
  {
   "cell_type": "code",
   "execution_count": 35,
   "metadata": {},
   "outputs": [],
   "source": [
    "%reset -f\n",
    "import pandas as pd\n",
    "import plotly.express as px\n",
    "import plotly.graph_objects as go\n",
    "from datetime import datetime as dt\n",
    "import os\n"
   ]
  },
  {
   "cell_type": "code",
   "execution_count": 36,
   "metadata": {},
   "outputs": [
    {
     "data": {
      "text/html": [
       "<div>\n",
       "<style scoped>\n",
       "    .dataframe tbody tr th:only-of-type {\n",
       "        vertical-align: middle;\n",
       "    }\n",
       "\n",
       "    .dataframe tbody tr th {\n",
       "        vertical-align: top;\n",
       "    }\n",
       "\n",
       "    .dataframe thead th {\n",
       "        text-align: right;\n",
       "    }\n",
       "</style>\n",
       "<table border=\"1\" class=\"dataframe\">\n",
       "  <thead>\n",
       "    <tr style=\"text-align: right;\">\n",
       "      <th></th>\n",
       "      <th>Date</th>\n",
       "      <th>Amount</th>\n",
       "      <th>Transaction Type</th>\n",
       "      <th>Transaction Details</th>\n",
       "      <th>Category</th>\n",
       "      <th>Merchant Name</th>\n",
       "    </tr>\n",
       "  </thead>\n",
       "  <tbody>\n",
       "    <tr>\n",
       "      <th>0</th>\n",
       "      <td>2022-11-30</td>\n",
       "      <td>2438.17</td>\n",
       "      <td>SALARY</td>\n",
       "      <td>SALARY 01118120 MONASH UNIVERSIT VICTOR CRUZ DE F</td>\n",
       "      <td>Income</td>\n",
       "      <td>No detail</td>\n",
       "    </tr>\n",
       "    <tr>\n",
       "      <th>1</th>\n",
       "      <td>2022-12-01</td>\n",
       "      <td>-256.70</td>\n",
       "      <td>TRANSFER DEBIT</td>\n",
       "      <td>INTERNET BPAY GLEN EIRA COUNCIL 9334026999310</td>\n",
       "      <td>Bills</td>\n",
       "      <td>Glen Eira City Council</td>\n",
       "    </tr>\n",
       "    <tr>\n",
       "      <th>2</th>\n",
       "      <td>2022-12-01</td>\n",
       "      <td>-350.00</td>\n",
       "      <td>TRANSFER DEBIT</td>\n",
       "      <td>INTERNET TRANSFER Car instalment</td>\n",
       "      <td>Transfers out</td>\n",
       "      <td>No detail</td>\n",
       "    </tr>\n",
       "    <tr>\n",
       "      <th>3</th>\n",
       "      <td>2022-12-01</td>\n",
       "      <td>-23.25</td>\n",
       "      <td>MISCELLANEOUS DEBIT</td>\n",
       "      <td>V7155 30/11 COLES 0645 OAKLEIGH 74363962334</td>\n",
       "      <td>Groceries</td>\n",
       "      <td>Coles (Oakleigh Central)</td>\n",
       "    </tr>\n",
       "    <tr>\n",
       "      <th>4</th>\n",
       "      <td>2022-12-02</td>\n",
       "      <td>-42.22</td>\n",
       "      <td>MISCELLANEOUS DEBIT</td>\n",
       "      <td>V5977 01/12 AUST FEDERAL POLICE SYDNEY 7456445...</td>\n",
       "      <td>Bills</td>\n",
       "      <td>Australian Federal Police</td>\n",
       "    </tr>\n",
       "    <tr>\n",
       "      <th>...</th>\n",
       "      <td>...</td>\n",
       "      <td>...</td>\n",
       "      <td>...</td>\n",
       "      <td>...</td>\n",
       "      <td>...</td>\n",
       "      <td>...</td>\n",
       "    </tr>\n",
       "    <tr>\n",
       "      <th>312</th>\n",
       "      <td>2023-04-06</td>\n",
       "      <td>-350.00</td>\n",
       "      <td>TRANSFER DEBIT</td>\n",
       "      <td>INTERNET TRANSFER Car instalment</td>\n",
       "      <td>Transfers out</td>\n",
       "      <td>No detail</td>\n",
       "    </tr>\n",
       "    <tr>\n",
       "      <th>313</th>\n",
       "      <td>2023-04-07</td>\n",
       "      <td>-33.88</td>\n",
       "      <td>EFTPOS DEBIT</td>\n",
       "      <td>POS 07/04 PAYPAL *UBEREATS AU Sydney AU</td>\n",
       "      <td>Food &amp; drink</td>\n",
       "      <td>Uber Eats</td>\n",
       "    </tr>\n",
       "    <tr>\n",
       "      <th>314</th>\n",
       "      <td>2023-04-07</td>\n",
       "      <td>-1.44</td>\n",
       "      <td>EFTPOS DEBIT</td>\n",
       "      <td>POS 07/04 PAYPAL *UBEREATS AU Sydney AU</td>\n",
       "      <td>Food &amp; drink</td>\n",
       "      <td>Uber Eats</td>\n",
       "    </tr>\n",
       "    <tr>\n",
       "      <th>315</th>\n",
       "      <td>2023-04-08</td>\n",
       "      <td>-76.17</td>\n",
       "      <td>EFTPOS DEBIT</td>\n",
       "      <td>POS 08/04 WW METRO/11-29 KOKARIBB R CARNEGIE</td>\n",
       "      <td>Groceries</td>\n",
       "      <td>Woolworths (Carnegie)</td>\n",
       "    </tr>\n",
       "    <tr>\n",
       "      <th>316</th>\n",
       "      <td>2023-04-08</td>\n",
       "      <td>-155.99</td>\n",
       "      <td>EFTPOS DEBIT</td>\n",
       "      <td>POS 08/04 AMAZON MARKETPLACE AU +61866216107</td>\n",
       "      <td>Shopping</td>\n",
       "      <td>Amazon</td>\n",
       "    </tr>\n",
       "  </tbody>\n",
       "</table>\n",
       "<p>317 rows × 6 columns</p>\n",
       "</div>"
      ],
      "text/plain": [
       "          Date   Amount     Transaction Type  \\\n",
       "0   2022-11-30  2438.17               SALARY   \n",
       "1   2022-12-01  -256.70       TRANSFER DEBIT   \n",
       "2   2022-12-01  -350.00       TRANSFER DEBIT   \n",
       "3   2022-12-01   -23.25  MISCELLANEOUS DEBIT   \n",
       "4   2022-12-02   -42.22  MISCELLANEOUS DEBIT   \n",
       "..         ...      ...                  ...   \n",
       "312 2023-04-06  -350.00       TRANSFER DEBIT   \n",
       "313 2023-04-07   -33.88         EFTPOS DEBIT   \n",
       "314 2023-04-07    -1.44         EFTPOS DEBIT   \n",
       "315 2023-04-08   -76.17         EFTPOS DEBIT   \n",
       "316 2023-04-08  -155.99         EFTPOS DEBIT   \n",
       "\n",
       "                                   Transaction Details       Category  \\\n",
       "0    SALARY 01118120 MONASH UNIVERSIT VICTOR CRUZ DE F         Income   \n",
       "1        INTERNET BPAY GLEN EIRA COUNCIL 9334026999310          Bills   \n",
       "2                     INTERNET TRANSFER Car instalment  Transfers out   \n",
       "3          V7155 30/11 COLES 0645 OAKLEIGH 74363962334      Groceries   \n",
       "4    V5977 01/12 AUST FEDERAL POLICE SYDNEY 7456445...          Bills   \n",
       "..                                                 ...            ...   \n",
       "312                   INTERNET TRANSFER Car instalment  Transfers out   \n",
       "313            POS 07/04 PAYPAL *UBEREATS AU Sydney AU   Food & drink   \n",
       "314            POS 07/04 PAYPAL *UBEREATS AU Sydney AU   Food & drink   \n",
       "315       POS 08/04 WW METRO/11-29 KOKARIBB R CARNEGIE      Groceries   \n",
       "316       POS 08/04 AMAZON MARKETPLACE AU +61866216107       Shopping   \n",
       "\n",
       "                 Merchant Name  \n",
       "0                    No detail  \n",
       "1       Glen Eira City Council  \n",
       "2                    No detail  \n",
       "3     Coles (Oakleigh Central)  \n",
       "4    Australian Federal Police  \n",
       "..                         ...  \n",
       "312                  No detail  \n",
       "313                  Uber Eats  \n",
       "314                  Uber Eats  \n",
       "315      Woolworths (Carnegie)  \n",
       "316                     Amazon  \n",
       "\n",
       "[317 rows x 6 columns]"
      ]
     },
     "execution_count": 36,
     "metadata": {},
     "output_type": "execute_result"
    }
   ],
   "source": [
    "df = pd.read_csv('./data/processed/expenses_filtered_2023.csv', header=0, parse_dates=['Date'])\n",
    "df"
   ]
  },
  {
   "cell_type": "code",
   "execution_count": 77,
   "metadata": {},
   "outputs": [
    {
     "data": {
      "text/html": [
       "<div>\n",
       "<style scoped>\n",
       "    .dataframe tbody tr th:only-of-type {\n",
       "        vertical-align: middle;\n",
       "    }\n",
       "\n",
       "    .dataframe tbody tr th {\n",
       "        vertical-align: top;\n",
       "    }\n",
       "\n",
       "    .dataframe thead th {\n",
       "        text-align: right;\n",
       "    }\n",
       "</style>\n",
       "<table border=\"1\" class=\"dataframe\">\n",
       "  <thead>\n",
       "    <tr style=\"text-align: right;\">\n",
       "      <th></th>\n",
       "      <th>Date</th>\n",
       "      <th>Amount</th>\n",
       "    </tr>\n",
       "  </thead>\n",
       "  <tbody>\n",
       "    <tr>\n",
       "      <th>0</th>\n",
       "      <td>2022-11-30</td>\n",
       "      <td>6220.33</td>\n",
       "    </tr>\n",
       "    <tr>\n",
       "      <th>1</th>\n",
       "      <td>2022-12-14</td>\n",
       "      <td>1691.05</td>\n",
       "    </tr>\n",
       "    <tr>\n",
       "      <th>2</th>\n",
       "      <td>2022-12-28</td>\n",
       "      <td>4149.63</td>\n",
       "    </tr>\n",
       "    <tr>\n",
       "      <th>3</th>\n",
       "      <td>2023-01-11</td>\n",
       "      <td>1656.04</td>\n",
       "    </tr>\n",
       "    <tr>\n",
       "      <th>4</th>\n",
       "      <td>2023-01-25</td>\n",
       "      <td>1692.10</td>\n",
       "    </tr>\n",
       "    <tr>\n",
       "      <th>5</th>\n",
       "      <td>2023-02-08</td>\n",
       "      <td>1431.90</td>\n",
       "    </tr>\n",
       "    <tr>\n",
       "      <th>6</th>\n",
       "      <td>2023-02-22</td>\n",
       "      <td>2016.29</td>\n",
       "    </tr>\n",
       "    <tr>\n",
       "      <th>7</th>\n",
       "      <td>2023-03-08</td>\n",
       "      <td>2566.69</td>\n",
       "    </tr>\n",
       "    <tr>\n",
       "      <th>8</th>\n",
       "      <td>2023-03-22</td>\n",
       "      <td>1907.42</td>\n",
       "    </tr>\n",
       "    <tr>\n",
       "      <th>9</th>\n",
       "      <td>2023-04-05</td>\n",
       "      <td>945.15</td>\n",
       "    </tr>\n",
       "  </tbody>\n",
       "</table>\n",
       "</div>"
      ],
      "text/plain": [
       "        Date   Amount\n",
       "0 2022-11-30  6220.33\n",
       "1 2022-12-14  1691.05\n",
       "2 2022-12-28  4149.63\n",
       "3 2023-01-11  1656.04\n",
       "4 2023-01-25  1692.10\n",
       "5 2023-02-08  1431.90\n",
       "6 2023-02-22  2016.29\n",
       "7 2023-03-08  2566.69\n",
       "8 2023-03-22  1907.42\n",
       "9 2023-04-05   945.15"
      ]
     },
     "execution_count": 77,
     "metadata": {},
     "output_type": "execute_result"
    }
   ],
   "source": [
    "# df4 = df.groupby([pd.Grouper(key='Date', freq='2W-Wed', closed='left', label='left')]).sum(numeric_only=True).reset_index()\n",
    "data1 = df.query('Amount >= 0')\n",
    "data1\n",
    "data2 = df.query('Amount <= 0').copy()\n",
    "data2.Amount = data2.Amount.abs()\n",
    "data2\n",
    "df3 = data2.groupby([pd.Grouper(key='Date', freq='2W-Wed', closed='left', label='left')]).sum(numeric_only=True).reset_index()\n",
    "df4 = data1.groupby([pd.Grouper(key='Date', freq='2W-Wed', closed='left', label='left')]).sum(numeric_only=True).reset_index()\n",
    "df3"
   ]
  },
  {
   "cell_type": "code",
   "execution_count": 67,
   "metadata": {},
   "outputs": [
    {
     "data": {
      "application/vnd.plotly.v1+json": {
       "config": {
        "plotlyServerURL": "https://plot.ly"
       },
       "data": [
        {
         "marker": {
          "color": "#ff6666"
         },
         "name": "Expenses",
         "text": [
          6220.33,
          1691.05,
          4149.63,
          1656.04,
          1692.1,
          1431.9,
          2016.29,
          2566.69,
          1907.42,
          945.15
         ],
         "textangle": 0,
         "textposition": "outside",
         "type": "bar",
         "x": [
          "2022-11-30T00:00:00",
          "2022-12-14T00:00:00",
          "2022-12-28T00:00:00",
          "2023-01-11T00:00:00",
          "2023-01-25T00:00:00",
          "2023-02-08T00:00:00",
          "2023-02-22T00:00:00",
          "2023-03-08T00:00:00",
          "2023-03-22T00:00:00",
          "2023-04-05T00:00:00"
         ],
         "y": [
          6220.330000000001,
          1691.05,
          4149.63,
          1656.04,
          1692.1,
          1431.9,
          2016.29,
          2566.69,
          1907.42,
          945.1500000000001
         ]
        },
        {
         "marker": {
          "color": "rgb(153, 255, 204)"
         },
         "name": "Income",
         "text": [
          2523.17,
          5612.32,
          564.06,
          2868.19,
          2566.73,
          2658.19,
          2608.19,
          2601.12,
          2748.15,
          2596.04
         ],
         "textangle": 0,
         "textposition": "outside",
         "type": "bar",
         "x": [
          "2022-11-30T00:00:00",
          "2022-12-14T00:00:00",
          "2022-12-28T00:00:00",
          "2023-01-11T00:00:00",
          "2023-01-25T00:00:00",
          "2023-02-08T00:00:00",
          "2023-02-22T00:00:00",
          "2023-03-08T00:00:00",
          "2023-03-22T00:00:00",
          "2023-04-05T00:00:00"
         ],
         "y": [
          2523.17,
          5612.32,
          564.06,
          2868.19,
          2566.73,
          2658.19,
          2608.19,
          2601.12,
          2748.15,
          2596.04
         ]
        }
       ],
       "layout": {
        "bargap": 0.1,
        "font": {
         "family": "Arial"
        },
        "template": {
         "data": {
          "bar": [
           {
            "error_x": {
             "color": "#2a3f5f"
            },
            "error_y": {
             "color": "#2a3f5f"
            },
            "marker": {
             "line": {
              "color": "#E5ECF6",
              "width": 0.5
             },
             "pattern": {
              "fillmode": "overlay",
              "size": 10,
              "solidity": 0.2
             }
            },
            "type": "bar"
           }
          ],
          "barpolar": [
           {
            "marker": {
             "line": {
              "color": "#E5ECF6",
              "width": 0.5
             },
             "pattern": {
              "fillmode": "overlay",
              "size": 10,
              "solidity": 0.2
             }
            },
            "type": "barpolar"
           }
          ],
          "carpet": [
           {
            "aaxis": {
             "endlinecolor": "#2a3f5f",
             "gridcolor": "white",
             "linecolor": "white",
             "minorgridcolor": "white",
             "startlinecolor": "#2a3f5f"
            },
            "baxis": {
             "endlinecolor": "#2a3f5f",
             "gridcolor": "white",
             "linecolor": "white",
             "minorgridcolor": "white",
             "startlinecolor": "#2a3f5f"
            },
            "type": "carpet"
           }
          ],
          "choropleth": [
           {
            "colorbar": {
             "outlinewidth": 0,
             "ticks": ""
            },
            "type": "choropleth"
           }
          ],
          "contour": [
           {
            "colorbar": {
             "outlinewidth": 0,
             "ticks": ""
            },
            "colorscale": [
             [
              0,
              "#0d0887"
             ],
             [
              0.1111111111111111,
              "#46039f"
             ],
             [
              0.2222222222222222,
              "#7201a8"
             ],
             [
              0.3333333333333333,
              "#9c179e"
             ],
             [
              0.4444444444444444,
              "#bd3786"
             ],
             [
              0.5555555555555556,
              "#d8576b"
             ],
             [
              0.6666666666666666,
              "#ed7953"
             ],
             [
              0.7777777777777778,
              "#fb9f3a"
             ],
             [
              0.8888888888888888,
              "#fdca26"
             ],
             [
              1,
              "#f0f921"
             ]
            ],
            "type": "contour"
           }
          ],
          "contourcarpet": [
           {
            "colorbar": {
             "outlinewidth": 0,
             "ticks": ""
            },
            "type": "contourcarpet"
           }
          ],
          "heatmap": [
           {
            "colorbar": {
             "outlinewidth": 0,
             "ticks": ""
            },
            "colorscale": [
             [
              0,
              "#0d0887"
             ],
             [
              0.1111111111111111,
              "#46039f"
             ],
             [
              0.2222222222222222,
              "#7201a8"
             ],
             [
              0.3333333333333333,
              "#9c179e"
             ],
             [
              0.4444444444444444,
              "#bd3786"
             ],
             [
              0.5555555555555556,
              "#d8576b"
             ],
             [
              0.6666666666666666,
              "#ed7953"
             ],
             [
              0.7777777777777778,
              "#fb9f3a"
             ],
             [
              0.8888888888888888,
              "#fdca26"
             ],
             [
              1,
              "#f0f921"
             ]
            ],
            "type": "heatmap"
           }
          ],
          "heatmapgl": [
           {
            "colorbar": {
             "outlinewidth": 0,
             "ticks": ""
            },
            "colorscale": [
             [
              0,
              "#0d0887"
             ],
             [
              0.1111111111111111,
              "#46039f"
             ],
             [
              0.2222222222222222,
              "#7201a8"
             ],
             [
              0.3333333333333333,
              "#9c179e"
             ],
             [
              0.4444444444444444,
              "#bd3786"
             ],
             [
              0.5555555555555556,
              "#d8576b"
             ],
             [
              0.6666666666666666,
              "#ed7953"
             ],
             [
              0.7777777777777778,
              "#fb9f3a"
             ],
             [
              0.8888888888888888,
              "#fdca26"
             ],
             [
              1,
              "#f0f921"
             ]
            ],
            "type": "heatmapgl"
           }
          ],
          "histogram": [
           {
            "marker": {
             "pattern": {
              "fillmode": "overlay",
              "size": 10,
              "solidity": 0.2
             }
            },
            "type": "histogram"
           }
          ],
          "histogram2d": [
           {
            "colorbar": {
             "outlinewidth": 0,
             "ticks": ""
            },
            "colorscale": [
             [
              0,
              "#0d0887"
             ],
             [
              0.1111111111111111,
              "#46039f"
             ],
             [
              0.2222222222222222,
              "#7201a8"
             ],
             [
              0.3333333333333333,
              "#9c179e"
             ],
             [
              0.4444444444444444,
              "#bd3786"
             ],
             [
              0.5555555555555556,
              "#d8576b"
             ],
             [
              0.6666666666666666,
              "#ed7953"
             ],
             [
              0.7777777777777778,
              "#fb9f3a"
             ],
             [
              0.8888888888888888,
              "#fdca26"
             ],
             [
              1,
              "#f0f921"
             ]
            ],
            "type": "histogram2d"
           }
          ],
          "histogram2dcontour": [
           {
            "colorbar": {
             "outlinewidth": 0,
             "ticks": ""
            },
            "colorscale": [
             [
              0,
              "#0d0887"
             ],
             [
              0.1111111111111111,
              "#46039f"
             ],
             [
              0.2222222222222222,
              "#7201a8"
             ],
             [
              0.3333333333333333,
              "#9c179e"
             ],
             [
              0.4444444444444444,
              "#bd3786"
             ],
             [
              0.5555555555555556,
              "#d8576b"
             ],
             [
              0.6666666666666666,
              "#ed7953"
             ],
             [
              0.7777777777777778,
              "#fb9f3a"
             ],
             [
              0.8888888888888888,
              "#fdca26"
             ],
             [
              1,
              "#f0f921"
             ]
            ],
            "type": "histogram2dcontour"
           }
          ],
          "mesh3d": [
           {
            "colorbar": {
             "outlinewidth": 0,
             "ticks": ""
            },
            "type": "mesh3d"
           }
          ],
          "parcoords": [
           {
            "line": {
             "colorbar": {
              "outlinewidth": 0,
              "ticks": ""
             }
            },
            "type": "parcoords"
           }
          ],
          "pie": [
           {
            "automargin": true,
            "type": "pie"
           }
          ],
          "scatter": [
           {
            "fillpattern": {
             "fillmode": "overlay",
             "size": 10,
             "solidity": 0.2
            },
            "type": "scatter"
           }
          ],
          "scatter3d": [
           {
            "line": {
             "colorbar": {
              "outlinewidth": 0,
              "ticks": ""
             }
            },
            "marker": {
             "colorbar": {
              "outlinewidth": 0,
              "ticks": ""
             }
            },
            "type": "scatter3d"
           }
          ],
          "scattercarpet": [
           {
            "marker": {
             "colorbar": {
              "outlinewidth": 0,
              "ticks": ""
             }
            },
            "type": "scattercarpet"
           }
          ],
          "scattergeo": [
           {
            "marker": {
             "colorbar": {
              "outlinewidth": 0,
              "ticks": ""
             }
            },
            "type": "scattergeo"
           }
          ],
          "scattergl": [
           {
            "marker": {
             "colorbar": {
              "outlinewidth": 0,
              "ticks": ""
             }
            },
            "type": "scattergl"
           }
          ],
          "scattermapbox": [
           {
            "marker": {
             "colorbar": {
              "outlinewidth": 0,
              "ticks": ""
             }
            },
            "type": "scattermapbox"
           }
          ],
          "scatterpolar": [
           {
            "marker": {
             "colorbar": {
              "outlinewidth": 0,
              "ticks": ""
             }
            },
            "type": "scatterpolar"
           }
          ],
          "scatterpolargl": [
           {
            "marker": {
             "colorbar": {
              "outlinewidth": 0,
              "ticks": ""
             }
            },
            "type": "scatterpolargl"
           }
          ],
          "scatterternary": [
           {
            "marker": {
             "colorbar": {
              "outlinewidth": 0,
              "ticks": ""
             }
            },
            "type": "scatterternary"
           }
          ],
          "surface": [
           {
            "colorbar": {
             "outlinewidth": 0,
             "ticks": ""
            },
            "colorscale": [
             [
              0,
              "#0d0887"
             ],
             [
              0.1111111111111111,
              "#46039f"
             ],
             [
              0.2222222222222222,
              "#7201a8"
             ],
             [
              0.3333333333333333,
              "#9c179e"
             ],
             [
              0.4444444444444444,
              "#bd3786"
             ],
             [
              0.5555555555555556,
              "#d8576b"
             ],
             [
              0.6666666666666666,
              "#ed7953"
             ],
             [
              0.7777777777777778,
              "#fb9f3a"
             ],
             [
              0.8888888888888888,
              "#fdca26"
             ],
             [
              1,
              "#f0f921"
             ]
            ],
            "type": "surface"
           }
          ],
          "table": [
           {
            "cells": {
             "fill": {
              "color": "#EBF0F8"
             },
             "line": {
              "color": "white"
             }
            },
            "header": {
             "fill": {
              "color": "#C8D4E3"
             },
             "line": {
              "color": "white"
             }
            },
            "type": "table"
           }
          ]
         },
         "layout": {
          "annotationdefaults": {
           "arrowcolor": "#2a3f5f",
           "arrowhead": 0,
           "arrowwidth": 1
          },
          "autotypenumbers": "strict",
          "coloraxis": {
           "colorbar": {
            "outlinewidth": 0,
            "ticks": ""
           }
          },
          "colorscale": {
           "diverging": [
            [
             0,
             "#8e0152"
            ],
            [
             0.1,
             "#c51b7d"
            ],
            [
             0.2,
             "#de77ae"
            ],
            [
             0.3,
             "#f1b6da"
            ],
            [
             0.4,
             "#fde0ef"
            ],
            [
             0.5,
             "#f7f7f7"
            ],
            [
             0.6,
             "#e6f5d0"
            ],
            [
             0.7,
             "#b8e186"
            ],
            [
             0.8,
             "#7fbc41"
            ],
            [
             0.9,
             "#4d9221"
            ],
            [
             1,
             "#276419"
            ]
           ],
           "sequential": [
            [
             0,
             "#0d0887"
            ],
            [
             0.1111111111111111,
             "#46039f"
            ],
            [
             0.2222222222222222,
             "#7201a8"
            ],
            [
             0.3333333333333333,
             "#9c179e"
            ],
            [
             0.4444444444444444,
             "#bd3786"
            ],
            [
             0.5555555555555556,
             "#d8576b"
            ],
            [
             0.6666666666666666,
             "#ed7953"
            ],
            [
             0.7777777777777778,
             "#fb9f3a"
            ],
            [
             0.8888888888888888,
             "#fdca26"
            ],
            [
             1,
             "#f0f921"
            ]
           ],
           "sequentialminus": [
            [
             0,
             "#0d0887"
            ],
            [
             0.1111111111111111,
             "#46039f"
            ],
            [
             0.2222222222222222,
             "#7201a8"
            ],
            [
             0.3333333333333333,
             "#9c179e"
            ],
            [
             0.4444444444444444,
             "#bd3786"
            ],
            [
             0.5555555555555556,
             "#d8576b"
            ],
            [
             0.6666666666666666,
             "#ed7953"
            ],
            [
             0.7777777777777778,
             "#fb9f3a"
            ],
            [
             0.8888888888888888,
             "#fdca26"
            ],
            [
             1,
             "#f0f921"
            ]
           ]
          },
          "colorway": [
           "#636efa",
           "#EF553B",
           "#00cc96",
           "#ab63fa",
           "#FFA15A",
           "#19d3f3",
           "#FF6692",
           "#B6E880",
           "#FF97FF",
           "#FECB52"
          ],
          "font": {
           "color": "#2a3f5f"
          },
          "geo": {
           "bgcolor": "white",
           "lakecolor": "white",
           "landcolor": "#E5ECF6",
           "showlakes": true,
           "showland": true,
           "subunitcolor": "white"
          },
          "hoverlabel": {
           "align": "left"
          },
          "hovermode": "closest",
          "mapbox": {
           "style": "light"
          },
          "paper_bgcolor": "white",
          "plot_bgcolor": "#E5ECF6",
          "polar": {
           "angularaxis": {
            "gridcolor": "white",
            "linecolor": "white",
            "ticks": ""
           },
           "bgcolor": "#E5ECF6",
           "radialaxis": {
            "gridcolor": "white",
            "linecolor": "white",
            "ticks": ""
           }
          },
          "scene": {
           "xaxis": {
            "backgroundcolor": "#E5ECF6",
            "gridcolor": "white",
            "gridwidth": 2,
            "linecolor": "white",
            "showbackground": true,
            "ticks": "",
            "zerolinecolor": "white"
           },
           "yaxis": {
            "backgroundcolor": "#E5ECF6",
            "gridcolor": "white",
            "gridwidth": 2,
            "linecolor": "white",
            "showbackground": true,
            "ticks": "",
            "zerolinecolor": "white"
           },
           "zaxis": {
            "backgroundcolor": "#E5ECF6",
            "gridcolor": "white",
            "gridwidth": 2,
            "linecolor": "white",
            "showbackground": true,
            "ticks": "",
            "zerolinecolor": "white"
           }
          },
          "shapedefaults": {
           "line": {
            "color": "#2a3f5f"
           }
          },
          "ternary": {
           "aaxis": {
            "gridcolor": "white",
            "linecolor": "white",
            "ticks": ""
           },
           "baxis": {
            "gridcolor": "white",
            "linecolor": "white",
            "ticks": ""
           },
           "bgcolor": "#E5ECF6",
           "caxis": {
            "gridcolor": "white",
            "linecolor": "white",
            "ticks": ""
           }
          },
          "title": {
           "x": 0.05
          },
          "xaxis": {
           "automargin": true,
           "gridcolor": "white",
           "linecolor": "white",
           "ticks": "",
           "title": {
            "standoff": 15
           },
           "zerolinecolor": "white",
           "zerolinewidth": 2
          },
          "yaxis": {
           "automargin": true,
           "gridcolor": "white",
           "linecolor": "white",
           "ticks": "",
           "title": {
            "standoff": 15
           },
           "zerolinecolor": "white",
           "zerolinewidth": 2
          }
         }
        },
        "xaxis": {
         "automargin": true,
         "tickmode": "array",
         "ticktext": [
          "30-Nov-2022",
          "14-Dec-2022",
          "28-Dec-2022",
          "11-Jan-2023",
          "25-Jan-2023",
          "08-Feb-2023",
          "22-Feb-2023",
          "08-Mar-2023",
          "22-Mar-2023",
          "05-Apr-2023"
         ],
         "tickvals": [
          "2022-11-30T00:00:00",
          "2022-12-14T00:00:00",
          "2022-12-28T00:00:00",
          "2023-01-11T00:00:00",
          "2023-01-25T00:00:00",
          "2023-02-08T00:00:00",
          "2023-02-22T00:00:00",
          "2023-03-08T00:00:00",
          "2023-03-22T00:00:00",
          "2023-04-05T00:00:00"
         ],
         "title": {
          "text": "Fornight pay date"
         }
        },
        "yaxis": {
         "showgrid": false,
         "title": {
          "text": "Total"
         }
        }
       }
      }
     },
     "metadata": {},
     "output_type": "display_data"
    }
   ],
   "source": [
    "fig = go.Figure()\n",
    "\n",
    "fig.add_trace(go.Bar(x=df3[\"Date\"], y=df3['Amount'],\n",
    "  name = \"Expenses\", text = df3[\"Amount\"].round(2), textangle=0, textposition='outside', marker_color='#ff6666'\n",
    "))\n",
    "\n",
    "fig.add_trace(go.Bar(x=df4[\"Date\"], y=df4['Amount'],\n",
    "  name = \"Income\", text = df4[\"Amount\"].round(2), textangle=0, textposition='outside', marker_color='rgb(153, 255, 204)'\n",
    "))\n",
    "# fig = px.bar(df4, x='Date', y='Amount',color_discrete_sequence=px.colors.qualitative.Dark24, text_auto='.2f')\n",
    "fig.update_layout( \n",
    "    bargap=0.1,\n",
    "    xaxis_title_text='Fornight pay date', \n",
    "    yaxis_title_text='Total',\n",
    "    font_family='Arial',\n",
    "    xaxis=dict(tickmode='array', tickvals= df3['Date'], ticktext = df3['Date'].apply(lambda x: x.strftime('%d-%b-%Y')),automargin=True),\n",
    "    )\n",
    "fig.update_yaxes(showgrid=False)\n",
    "# fig.update_xaxes(type='category')\n",
    "fig.show()\n",
    "\n"
   ]
  }
 ],
 "metadata": {
  "kernelspec": {
   "display_name": "Budget",
   "language": "python",
   "name": "python3"
  },
  "language_info": {
   "codemirror_mode": {
    "name": "ipython",
    "version": 3
   },
   "file_extension": ".py",
   "mimetype": "text/x-python",
   "name": "python",
   "nbconvert_exporter": "python",
   "pygments_lexer": "ipython3",
   "version": "3.11.2"
  },
  "orig_nbformat": 4
 },
 "nbformat": 4,
 "nbformat_minor": 2
}
