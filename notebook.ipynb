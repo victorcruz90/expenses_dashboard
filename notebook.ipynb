{
 "cells": [
  {
   "cell_type": "code",
   "execution_count": 2,
   "metadata": {},
   "outputs": [],
   "source": [
    "%reset -f\n",
    "import pandas as pd\n",
    "import plotly.express as px\n",
    "import plotly.graph_objects as go\n",
    "from datetime import datetime as dt\n",
    "import os\n"
   ]
  },
  {
   "cell_type": "code",
   "execution_count": 3,
   "metadata": {},
   "outputs": [
    {
     "data": {
      "text/plain": [
       "(582, 6)"
      ]
     },
     "execution_count": 3,
     "metadata": {},
     "output_type": "execute_result"
    }
   ],
   "source": [
    "df = pd.read_csv('./data/processed/expenses_filtered_2023.csv', header=0, parse_dates=['Date'])\n",
    "df.shape"
   ]
  },
  {
   "cell_type": "code",
   "execution_count": 19,
   "metadata": {},
   "outputs": [
    {
     "data": {
      "text/plain": [
       "11998.179999999998"
      ]
     },
     "execution_count": 19,
     "metadata": {},
     "output_type": "execute_result"
    }
   ],
   "source": [
    "# df4 = df.groupby([pd.Grouper(key='Date', freq='2W-Wed', closed='left', label='left')]).sum(numeric_only=True).reset_index()\n",
    "data1 = df.query('Amount > 0')\n",
    "data1\n",
    "data2 = df.query('Amount < 0').copy()\n",
    "data2.Amount = data2.Amount.abs()\n",
    "data1\n",
    "df3 = data2.groupby([pd.Grouper(key='Date', freq='2W-Wed', closed='left', label='left'), \"Category\"]).sum(numeric_only=True).reset_index()\n",
    "df4 = df.groupby([pd.Grouper(key='Date', freq='2W-Wed', closed='left', label='left')]).sum(numeric_only=True).reset_index()\n",
    "df4.Amount.sum()"
   ]
  },
  {
   "cell_type": "code",
   "execution_count": 12,
   "metadata": {},
   "outputs": [
    {
     "data": {
      "text/html": [
       "<div>\n",
       "<style scoped>\n",
       "    .dataframe tbody tr th:only-of-type {\n",
       "        vertical-align: middle;\n",
       "    }\n",
       "\n",
       "    .dataframe tbody tr th {\n",
       "        vertical-align: top;\n",
       "    }\n",
       "\n",
       "    .dataframe thead th {\n",
       "        text-align: right;\n",
       "    }\n",
       "</style>\n",
       "<table border=\"1\" class=\"dataframe\">\n",
       "  <thead>\n",
       "    <tr style=\"text-align: right;\">\n",
       "      <th></th>\n",
       "      <th>Date</th>\n",
       "      <th>Amount</th>\n",
       "    </tr>\n",
       "  </thead>\n",
       "  <tbody>\n",
       "    <tr>\n",
       "      <th>7</th>\n",
       "      <td>2023-03-08</td>\n",
       "      <td>4961.51</td>\n",
       "    </tr>\n",
       "    <tr>\n",
       "      <th>8</th>\n",
       "      <td>2023-03-22</td>\n",
       "      <td>5208.39</td>\n",
       "    </tr>\n",
       "    <tr>\n",
       "      <th>9</th>\n",
       "      <td>2023-04-05</td>\n",
       "      <td>4574.23</td>\n",
       "    </tr>\n",
       "    <tr>\n",
       "      <th>10</th>\n",
       "      <td>2023-04-19</td>\n",
       "      <td>4815.23</td>\n",
       "    </tr>\n",
       "  </tbody>\n",
       "</table>\n",
       "</div>"
      ],
      "text/plain": [
       "         Date   Amount\n",
       "7  2023-03-08  4961.51\n",
       "8  2023-03-22  5208.39\n",
       "9  2023-04-05  4574.23\n",
       "10 2023-04-19  4815.23"
      ]
     },
     "execution_count": 12,
     "metadata": {},
     "output_type": "execute_result"
    }
   ],
   "source": [
    "ata_expense = df.query('')\n",
    "ata_expense"
   ]
  },
  {
   "cell_type": "code",
   "execution_count": 11,
   "metadata": {},
   "outputs": [
    {
     "data": {
      "application/vnd.plotly.v1+json": {
       "config": {
        "plotlyServerURL": "https://plot.ly"
       },
       "data": [
        {
         "alignmentgroup": "True",
         "bingroup": "x",
         "histfunc": "sum",
         "hovertemplate": "Category=Bills<br>Date=%{x}<br>sum of Amount=%{y}<extra></extra>",
         "legendgroup": "Bills",
         "marker": {
          "color": "#2E91E5",
          "pattern": {
           "shape": ""
          }
         },
         "name": "Bills",
         "offsetgroup": "Bills",
         "orientation": "v",
         "showlegend": true,
         "texttemplate": "%{value:.2f}",
         "type": "histogram",
         "x": [
          "2022-11-30T00:00:00"
         ],
         "xaxis": "x",
         "y": [
          947.24
         ],
         "yaxis": "y"
        },
        {
         "alignmentgroup": "True",
         "bingroup": "x",
         "histfunc": "sum",
         "hovertemplate": "Category=Entertainment<br>Date=%{x}<br>sum of Amount=%{y}<extra></extra>",
         "legendgroup": "Entertainment",
         "marker": {
          "color": "#E15F99",
          "pattern": {
           "shape": ""
          }
         },
         "name": "Entertainment",
         "offsetgroup": "Entertainment",
         "orientation": "v",
         "showlegend": true,
         "texttemplate": "%{value:.2f}",
         "type": "histogram",
         "x": [
          "2022-11-30T00:00:00"
         ],
         "xaxis": "x",
         "y": [
          15.15
         ],
         "yaxis": "y"
        },
        {
         "alignmentgroup": "True",
         "bingroup": "x",
         "histfunc": "sum",
         "hovertemplate": "Category=Food & drink<br>Date=%{x}<br>sum of Amount=%{y}<extra></extra>",
         "legendgroup": "Food & drink",
         "marker": {
          "color": "#1CA71C",
          "pattern": {
           "shape": ""
          }
         },
         "name": "Food & drink",
         "offsetgroup": "Food & drink",
         "orientation": "v",
         "showlegend": true,
         "texttemplate": "%{value:.2f}",
         "type": "histogram",
         "x": [
          "2022-11-30T00:00:00"
         ],
         "xaxis": "x",
         "y": [
          442.03000000000003
         ],
         "yaxis": "y"
        },
        {
         "alignmentgroup": "True",
         "bingroup": "x",
         "histfunc": "sum",
         "hovertemplate": "Category=Groceries<br>Date=%{x}<br>sum of Amount=%{y}<extra></extra>",
         "legendgroup": "Groceries",
         "marker": {
          "color": "#FB0D0D",
          "pattern": {
           "shape": ""
          }
         },
         "name": "Groceries",
         "offsetgroup": "Groceries",
         "orientation": "v",
         "showlegend": true,
         "texttemplate": "%{value:.2f}",
         "type": "histogram",
         "x": [
          "2022-11-30T00:00:00"
         ],
         "xaxis": "x",
         "y": [
          201.2
         ],
         "yaxis": "y"
        },
        {
         "alignmentgroup": "True",
         "bingroup": "x",
         "histfunc": "sum",
         "hovertemplate": "Category=Health<br>Date=%{x}<br>sum of Amount=%{y}<extra></extra>",
         "legendgroup": "Health",
         "marker": {
          "color": "#DA16FF",
          "pattern": {
           "shape": ""
          }
         },
         "name": "Health",
         "offsetgroup": "Health",
         "orientation": "v",
         "showlegend": true,
         "texttemplate": "%{value:.2f}",
         "type": "histogram",
         "x": [
          "2022-11-30T00:00:00"
         ],
         "xaxis": "x",
         "y": [
          517.17
         ],
         "yaxis": "y"
        },
        {
         "alignmentgroup": "True",
         "bingroup": "x",
         "histfunc": "sum",
         "hovertemplate": "Category=Home<br>Date=%{x}<br>sum of Amount=%{y}<extra></extra>",
         "legendgroup": "Home",
         "marker": {
          "color": "#222A2A",
          "pattern": {
           "shape": ""
          }
         },
         "name": "Home",
         "offsetgroup": "Home",
         "orientation": "v",
         "showlegend": true,
         "texttemplate": "%{value:.2f}",
         "type": "histogram",
         "x": [
          "2022-11-30T00:00:00"
         ],
         "xaxis": "x",
         "y": [
          1142.85
         ],
         "yaxis": "y"
        },
        {
         "alignmentgroup": "True",
         "bingroup": "x",
         "histfunc": "sum",
         "hovertemplate": "Category=Personal care<br>Date=%{x}<br>sum of Amount=%{y}<extra></extra>",
         "legendgroup": "Personal care",
         "marker": {
          "color": "#B68100",
          "pattern": {
           "shape": ""
          }
         },
         "name": "Personal care",
         "offsetgroup": "Personal care",
         "orientation": "v",
         "showlegend": true,
         "texttemplate": "%{value:.2f}",
         "type": "histogram",
         "x": [
          "2022-11-30T00:00:00"
         ],
         "xaxis": "x",
         "y": [
          4457.4800000000005
         ],
         "yaxis": "y"
        },
        {
         "alignmentgroup": "True",
         "bingroup": "x",
         "histfunc": "sum",
         "hovertemplate": "Category=Pets<br>Date=%{x}<br>sum of Amount=%{y}<extra></extra>",
         "legendgroup": "Pets",
         "marker": {
          "color": "#750D86",
          "pattern": {
           "shape": ""
          }
         },
         "name": "Pets",
         "offsetgroup": "Pets",
         "orientation": "v",
         "showlegend": true,
         "texttemplate": "%{value:.2f}",
         "type": "histogram",
         "x": [
          "2022-11-30T00:00:00"
         ],
         "xaxis": "x",
         "y": [
          129.88
         ],
         "yaxis": "y"
        },
        {
         "alignmentgroup": "True",
         "bingroup": "x",
         "histfunc": "sum",
         "hovertemplate": "Category=Shopping<br>Date=%{x}<br>sum of Amount=%{y}<extra></extra>",
         "legendgroup": "Shopping",
         "marker": {
          "color": "#EB663B",
          "pattern": {
           "shape": ""
          }
         },
         "name": "Shopping",
         "offsetgroup": "Shopping",
         "orientation": "v",
         "showlegend": true,
         "texttemplate": "%{value:.2f}",
         "type": "histogram",
         "x": [
          "2022-11-30T00:00:00"
         ],
         "xaxis": "x",
         "y": [
          359.5
         ],
         "yaxis": "y"
        },
        {
         "alignmentgroup": "True",
         "bingroup": "x",
         "histfunc": "sum",
         "hovertemplate": "Category=Transport<br>Date=%{x}<br>sum of Amount=%{y}<extra></extra>",
         "legendgroup": "Transport",
         "marker": {
          "color": "#511CFB",
          "pattern": {
           "shape": ""
          }
         },
         "name": "Transport",
         "offsetgroup": "Transport",
         "orientation": "v",
         "showlegend": true,
         "texttemplate": "%{value:.2f}",
         "type": "histogram",
         "x": [
          "2022-11-30T00:00:00"
         ],
         "xaxis": "x",
         "y": [
          197.92000000000002
         ],
         "yaxis": "y"
        }
       ],
       "layout": {
        "bargap": 0.3,
        "barmode": "relative",
        "font": {
         "family": "Arial"
        },
        "legend": {
         "title": {
          "text": "Category"
         },
         "tracegroupgap": 0
        },
        "margin": {
         "t": 60
        },
        "plot_bgcolor": "rgba(0,0,0,0)",
        "template": {
         "data": {
          "bar": [
           {
            "error_x": {
             "color": "#2a3f5f"
            },
            "error_y": {
             "color": "#2a3f5f"
            },
            "marker": {
             "line": {
              "color": "#E5ECF6",
              "width": 0.5
             },
             "pattern": {
              "fillmode": "overlay",
              "size": 10,
              "solidity": 0.2
             }
            },
            "type": "bar"
           }
          ],
          "barpolar": [
           {
            "marker": {
             "line": {
              "color": "#E5ECF6",
              "width": 0.5
             },
             "pattern": {
              "fillmode": "overlay",
              "size": 10,
              "solidity": 0.2
             }
            },
            "type": "barpolar"
           }
          ],
          "carpet": [
           {
            "aaxis": {
             "endlinecolor": "#2a3f5f",
             "gridcolor": "white",
             "linecolor": "white",
             "minorgridcolor": "white",
             "startlinecolor": "#2a3f5f"
            },
            "baxis": {
             "endlinecolor": "#2a3f5f",
             "gridcolor": "white",
             "linecolor": "white",
             "minorgridcolor": "white",
             "startlinecolor": "#2a3f5f"
            },
            "type": "carpet"
           }
          ],
          "choropleth": [
           {
            "colorbar": {
             "outlinewidth": 0,
             "ticks": ""
            },
            "type": "choropleth"
           }
          ],
          "contour": [
           {
            "colorbar": {
             "outlinewidth": 0,
             "ticks": ""
            },
            "colorscale": [
             [
              0,
              "#0d0887"
             ],
             [
              0.1111111111111111,
              "#46039f"
             ],
             [
              0.2222222222222222,
              "#7201a8"
             ],
             [
              0.3333333333333333,
              "#9c179e"
             ],
             [
              0.4444444444444444,
              "#bd3786"
             ],
             [
              0.5555555555555556,
              "#d8576b"
             ],
             [
              0.6666666666666666,
              "#ed7953"
             ],
             [
              0.7777777777777778,
              "#fb9f3a"
             ],
             [
              0.8888888888888888,
              "#fdca26"
             ],
             [
              1,
              "#f0f921"
             ]
            ],
            "type": "contour"
           }
          ],
          "contourcarpet": [
           {
            "colorbar": {
             "outlinewidth": 0,
             "ticks": ""
            },
            "type": "contourcarpet"
           }
          ],
          "heatmap": [
           {
            "colorbar": {
             "outlinewidth": 0,
             "ticks": ""
            },
            "colorscale": [
             [
              0,
              "#0d0887"
             ],
             [
              0.1111111111111111,
              "#46039f"
             ],
             [
              0.2222222222222222,
              "#7201a8"
             ],
             [
              0.3333333333333333,
              "#9c179e"
             ],
             [
              0.4444444444444444,
              "#bd3786"
             ],
             [
              0.5555555555555556,
              "#d8576b"
             ],
             [
              0.6666666666666666,
              "#ed7953"
             ],
             [
              0.7777777777777778,
              "#fb9f3a"
             ],
             [
              0.8888888888888888,
              "#fdca26"
             ],
             [
              1,
              "#f0f921"
             ]
            ],
            "type": "heatmap"
           }
          ],
          "heatmapgl": [
           {
            "colorbar": {
             "outlinewidth": 0,
             "ticks": ""
            },
            "colorscale": [
             [
              0,
              "#0d0887"
             ],
             [
              0.1111111111111111,
              "#46039f"
             ],
             [
              0.2222222222222222,
              "#7201a8"
             ],
             [
              0.3333333333333333,
              "#9c179e"
             ],
             [
              0.4444444444444444,
              "#bd3786"
             ],
             [
              0.5555555555555556,
              "#d8576b"
             ],
             [
              0.6666666666666666,
              "#ed7953"
             ],
             [
              0.7777777777777778,
              "#fb9f3a"
             ],
             [
              0.8888888888888888,
              "#fdca26"
             ],
             [
              1,
              "#f0f921"
             ]
            ],
            "type": "heatmapgl"
           }
          ],
          "histogram": [
           {
            "marker": {
             "pattern": {
              "fillmode": "overlay",
              "size": 10,
              "solidity": 0.2
             }
            },
            "type": "histogram"
           }
          ],
          "histogram2d": [
           {
            "colorbar": {
             "outlinewidth": 0,
             "ticks": ""
            },
            "colorscale": [
             [
              0,
              "#0d0887"
             ],
             [
              0.1111111111111111,
              "#46039f"
             ],
             [
              0.2222222222222222,
              "#7201a8"
             ],
             [
              0.3333333333333333,
              "#9c179e"
             ],
             [
              0.4444444444444444,
              "#bd3786"
             ],
             [
              0.5555555555555556,
              "#d8576b"
             ],
             [
              0.6666666666666666,
              "#ed7953"
             ],
             [
              0.7777777777777778,
              "#fb9f3a"
             ],
             [
              0.8888888888888888,
              "#fdca26"
             ],
             [
              1,
              "#f0f921"
             ]
            ],
            "type": "histogram2d"
           }
          ],
          "histogram2dcontour": [
           {
            "colorbar": {
             "outlinewidth": 0,
             "ticks": ""
            },
            "colorscale": [
             [
              0,
              "#0d0887"
             ],
             [
              0.1111111111111111,
              "#46039f"
             ],
             [
              0.2222222222222222,
              "#7201a8"
             ],
             [
              0.3333333333333333,
              "#9c179e"
             ],
             [
              0.4444444444444444,
              "#bd3786"
             ],
             [
              0.5555555555555556,
              "#d8576b"
             ],
             [
              0.6666666666666666,
              "#ed7953"
             ],
             [
              0.7777777777777778,
              "#fb9f3a"
             ],
             [
              0.8888888888888888,
              "#fdca26"
             ],
             [
              1,
              "#f0f921"
             ]
            ],
            "type": "histogram2dcontour"
           }
          ],
          "mesh3d": [
           {
            "colorbar": {
             "outlinewidth": 0,
             "ticks": ""
            },
            "type": "mesh3d"
           }
          ],
          "parcoords": [
           {
            "line": {
             "colorbar": {
              "outlinewidth": 0,
              "ticks": ""
             }
            },
            "type": "parcoords"
           }
          ],
          "pie": [
           {
            "automargin": true,
            "type": "pie"
           }
          ],
          "scatter": [
           {
            "fillpattern": {
             "fillmode": "overlay",
             "size": 10,
             "solidity": 0.2
            },
            "type": "scatter"
           }
          ],
          "scatter3d": [
           {
            "line": {
             "colorbar": {
              "outlinewidth": 0,
              "ticks": ""
             }
            },
            "marker": {
             "colorbar": {
              "outlinewidth": 0,
              "ticks": ""
             }
            },
            "type": "scatter3d"
           }
          ],
          "scattercarpet": [
           {
            "marker": {
             "colorbar": {
              "outlinewidth": 0,
              "ticks": ""
             }
            },
            "type": "scattercarpet"
           }
          ],
          "scattergeo": [
           {
            "marker": {
             "colorbar": {
              "outlinewidth": 0,
              "ticks": ""
             }
            },
            "type": "scattergeo"
           }
          ],
          "scattergl": [
           {
            "marker": {
             "colorbar": {
              "outlinewidth": 0,
              "ticks": ""
             }
            },
            "type": "scattergl"
           }
          ],
          "scattermapbox": [
           {
            "marker": {
             "colorbar": {
              "outlinewidth": 0,
              "ticks": ""
             }
            },
            "type": "scattermapbox"
           }
          ],
          "scatterpolar": [
           {
            "marker": {
             "colorbar": {
              "outlinewidth": 0,
              "ticks": ""
             }
            },
            "type": "scatterpolar"
           }
          ],
          "scatterpolargl": [
           {
            "marker": {
             "colorbar": {
              "outlinewidth": 0,
              "ticks": ""
             }
            },
            "type": "scatterpolargl"
           }
          ],
          "scatterternary": [
           {
            "marker": {
             "colorbar": {
              "outlinewidth": 0,
              "ticks": ""
             }
            },
            "type": "scatterternary"
           }
          ],
          "surface": [
           {
            "colorbar": {
             "outlinewidth": 0,
             "ticks": ""
            },
            "colorscale": [
             [
              0,
              "#0d0887"
             ],
             [
              0.1111111111111111,
              "#46039f"
             ],
             [
              0.2222222222222222,
              "#7201a8"
             ],
             [
              0.3333333333333333,
              "#9c179e"
             ],
             [
              0.4444444444444444,
              "#bd3786"
             ],
             [
              0.5555555555555556,
              "#d8576b"
             ],
             [
              0.6666666666666666,
              "#ed7953"
             ],
             [
              0.7777777777777778,
              "#fb9f3a"
             ],
             [
              0.8888888888888888,
              "#fdca26"
             ],
             [
              1,
              "#f0f921"
             ]
            ],
            "type": "surface"
           }
          ],
          "table": [
           {
            "cells": {
             "fill": {
              "color": "#EBF0F8"
             },
             "line": {
              "color": "white"
             }
            },
            "header": {
             "fill": {
              "color": "#C8D4E3"
             },
             "line": {
              "color": "white"
             }
            },
            "type": "table"
           }
          ]
         },
         "layout": {
          "annotationdefaults": {
           "arrowcolor": "#2a3f5f",
           "arrowhead": 0,
           "arrowwidth": 1
          },
          "autotypenumbers": "strict",
          "coloraxis": {
           "colorbar": {
            "outlinewidth": 0,
            "ticks": ""
           }
          },
          "colorscale": {
           "diverging": [
            [
             0,
             "#8e0152"
            ],
            [
             0.1,
             "#c51b7d"
            ],
            [
             0.2,
             "#de77ae"
            ],
            [
             0.3,
             "#f1b6da"
            ],
            [
             0.4,
             "#fde0ef"
            ],
            [
             0.5,
             "#f7f7f7"
            ],
            [
             0.6,
             "#e6f5d0"
            ],
            [
             0.7,
             "#b8e186"
            ],
            [
             0.8,
             "#7fbc41"
            ],
            [
             0.9,
             "#4d9221"
            ],
            [
             1,
             "#276419"
            ]
           ],
           "sequential": [
            [
             0,
             "#0d0887"
            ],
            [
             0.1111111111111111,
             "#46039f"
            ],
            [
             0.2222222222222222,
             "#7201a8"
            ],
            [
             0.3333333333333333,
             "#9c179e"
            ],
            [
             0.4444444444444444,
             "#bd3786"
            ],
            [
             0.5555555555555556,
             "#d8576b"
            ],
            [
             0.6666666666666666,
             "#ed7953"
            ],
            [
             0.7777777777777778,
             "#fb9f3a"
            ],
            [
             0.8888888888888888,
             "#fdca26"
            ],
            [
             1,
             "#f0f921"
            ]
           ],
           "sequentialminus": [
            [
             0,
             "#0d0887"
            ],
            [
             0.1111111111111111,
             "#46039f"
            ],
            [
             0.2222222222222222,
             "#7201a8"
            ],
            [
             0.3333333333333333,
             "#9c179e"
            ],
            [
             0.4444444444444444,
             "#bd3786"
            ],
            [
             0.5555555555555556,
             "#d8576b"
            ],
            [
             0.6666666666666666,
             "#ed7953"
            ],
            [
             0.7777777777777778,
             "#fb9f3a"
            ],
            [
             0.8888888888888888,
             "#fdca26"
            ],
            [
             1,
             "#f0f921"
            ]
           ]
          },
          "colorway": [
           "#636efa",
           "#EF553B",
           "#00cc96",
           "#ab63fa",
           "#FFA15A",
           "#19d3f3",
           "#FF6692",
           "#B6E880",
           "#FF97FF",
           "#FECB52"
          ],
          "font": {
           "color": "#2a3f5f"
          },
          "geo": {
           "bgcolor": "white",
           "lakecolor": "white",
           "landcolor": "#E5ECF6",
           "showlakes": true,
           "showland": true,
           "subunitcolor": "white"
          },
          "hoverlabel": {
           "align": "left"
          },
          "hovermode": "closest",
          "mapbox": {
           "style": "light"
          },
          "paper_bgcolor": "white",
          "plot_bgcolor": "#E5ECF6",
          "polar": {
           "angularaxis": {
            "gridcolor": "white",
            "linecolor": "white",
            "ticks": ""
           },
           "bgcolor": "#E5ECF6",
           "radialaxis": {
            "gridcolor": "white",
            "linecolor": "white",
            "ticks": ""
           }
          },
          "scene": {
           "xaxis": {
            "backgroundcolor": "#E5ECF6",
            "gridcolor": "white",
            "gridwidth": 2,
            "linecolor": "white",
            "showbackground": true,
            "ticks": "",
            "zerolinecolor": "white"
           },
           "yaxis": {
            "backgroundcolor": "#E5ECF6",
            "gridcolor": "white",
            "gridwidth": 2,
            "linecolor": "white",
            "showbackground": true,
            "ticks": "",
            "zerolinecolor": "white"
           },
           "zaxis": {
            "backgroundcolor": "#E5ECF6",
            "gridcolor": "white",
            "gridwidth": 2,
            "linecolor": "white",
            "showbackground": true,
            "ticks": "",
            "zerolinecolor": "white"
           }
          },
          "shapedefaults": {
           "line": {
            "color": "#2a3f5f"
           }
          },
          "ternary": {
           "aaxis": {
            "gridcolor": "white",
            "linecolor": "white",
            "ticks": ""
           },
           "baxis": {
            "gridcolor": "white",
            "linecolor": "white",
            "ticks": ""
           },
           "bgcolor": "#E5ECF6",
           "caxis": {
            "gridcolor": "white",
            "linecolor": "white",
            "ticks": ""
           }
          },
          "title": {
           "x": 0.05
          },
          "xaxis": {
           "automargin": true,
           "gridcolor": "white",
           "linecolor": "white",
           "ticks": "",
           "title": {
            "standoff": 15
           },
           "zerolinecolor": "white",
           "zerolinewidth": 2
          },
          "yaxis": {
           "automargin": true,
           "gridcolor": "white",
           "linecolor": "white",
           "ticks": "",
           "title": {
            "standoff": 15
           },
           "zerolinecolor": "white",
           "zerolinewidth": 2
          }
         }
        },
        "xaxis": {
         "anchor": "y",
         "automargin": true,
         "domain": [
          0,
          1
         ],
         "tickfont": {
          "color": "black",
          "family": "Arial",
          "size": 14
         },
         "tickmode": "array",
         "ticktext": [
          "30-Nov-2022",
          "01-Dec-2022",
          "01-Dec-2022",
          "01-Dec-2022",
          "01-Dec-2022",
          "02-Dec-2022",
          "05-Dec-2022",
          "05-Dec-2022",
          "05-Dec-2022",
          "05-Dec-2022",
          "05-Dec-2022",
          "05-Dec-2022",
          "05-Dec-2022",
          "05-Dec-2022",
          "05-Dec-2022",
          "05-Dec-2022",
          "07-Dec-2022",
          "07-Dec-2022",
          "07-Dec-2022",
          "07-Dec-2022",
          "07-Dec-2022",
          "08-Dec-2022",
          "09-Dec-2022",
          "09-Dec-2022",
          "09-Dec-2022",
          "12-Dec-2022",
          "12-Dec-2022",
          "12-Dec-2022",
          "12-Dec-2022",
          "12-Dec-2022",
          "12-Dec-2022",
          "12-Dec-2022",
          "12-Dec-2022",
          "12-Dec-2022",
          "12-Dec-2022",
          "12-Dec-2022",
          "12-Dec-2022",
          "12-Dec-2022",
          "12-Dec-2022",
          "12-Dec-2022",
          "12-Dec-2022",
          "12-Dec-2022",
          "12-Dec-2022",
          "13-Dec-2022",
          "13-Dec-2022",
          "13-Dec-2022",
          "14-Dec-2022",
          "14-Dec-2022",
          "14-Dec-2022",
          "14-Dec-2022",
          "14-Dec-2022",
          "15-Dec-2022",
          "15-Dec-2022",
          "15-Dec-2022",
          "16-Dec-2022",
          "16-Dec-2022",
          "16-Dec-2022",
          "19-Dec-2022",
          "19-Dec-2022",
          "19-Dec-2022",
          "19-Dec-2022",
          "20-Dec-2022",
          "20-Dec-2022",
          "20-Dec-2022",
          "20-Dec-2022",
          "20-Dec-2022",
          "20-Dec-2022",
          "21-Dec-2022",
          "21-Dec-2022",
          "21-Dec-2022",
          "21-Dec-2022",
          "21-Dec-2022",
          "21-Dec-2022",
          "21-Dec-2022",
          "22-Dec-2022",
          "22-Dec-2022",
          "22-Dec-2022",
          "23-Dec-2022",
          "28-Dec-2022",
          "28-Dec-2022",
          "28-Dec-2022",
          "28-Dec-2022",
          "29-Dec-2022",
          "29-Dec-2022",
          "29-Dec-2022",
          "29-Dec-2022",
          "29-Dec-2022",
          "29-Dec-2022",
          "29-Dec-2022",
          "29-Dec-2022",
          "29-Dec-2022",
          "29-Dec-2022",
          "29-Dec-2022",
          "29-Dec-2022",
          "29-Dec-2022",
          "29-Dec-2022",
          "29-Dec-2022",
          "29-Dec-2022",
          "29-Dec-2022",
          "29-Dec-2022",
          "29-Dec-2022",
          "29-Dec-2022",
          "03-Jan-2023",
          "03-Jan-2023",
          "03-Jan-2023",
          "03-Jan-2023",
          "03-Jan-2023",
          "03-Jan-2023",
          "03-Jan-2023",
          "03-Jan-2023",
          "03-Jan-2023",
          "03-Jan-2023",
          "03-Jan-2023",
          "03-Jan-2023",
          "03-Jan-2023",
          "03-Jan-2023",
          "03-Jan-2023",
          "04-Jan-2023",
          "04-Jan-2023",
          "04-Jan-2023",
          "04-Jan-2023",
          "05-Jan-2023",
          "05-Jan-2023",
          "05-Jan-2023",
          "05-Jan-2023",
          "06-Jan-2023",
          "06-Jan-2023",
          "06-Jan-2023",
          "06-Jan-2023",
          "09-Jan-2023",
          "09-Jan-2023",
          "09-Jan-2023",
          "09-Jan-2023",
          "09-Jan-2023",
          "09-Jan-2023",
          "09-Jan-2023",
          "10-Jan-2023",
          "10-Jan-2023",
          "10-Jan-2023",
          "10-Jan-2023",
          "10-Jan-2023",
          "10-Jan-2023",
          "10-Jan-2023",
          "10-Jan-2023",
          "10-Jan-2023",
          "10-Jan-2023",
          "10-Jan-2023",
          "10-Jan-2023",
          "10-Jan-2023",
          "12-Jan-2023",
          "12-Jan-2023",
          "12-Jan-2023",
          "12-Jan-2023",
          "12-Jan-2023",
          "13-Jan-2023",
          "13-Jan-2023",
          "13-Jan-2023",
          "16-Jan-2023",
          "16-Jan-2023",
          "16-Jan-2023",
          "16-Jan-2023",
          "16-Jan-2023",
          "16-Jan-2023",
          "17-Jan-2023",
          "17-Jan-2023",
          "17-Jan-2023",
          "18-Jan-2023",
          "19-Jan-2023",
          "19-Jan-2023",
          "19-Jan-2023",
          "20-Jan-2023",
          "20-Jan-2023",
          "20-Jan-2023",
          "20-Jan-2023",
          "20-Jan-2023",
          "23-Jan-2023",
          "23-Jan-2023",
          "23-Jan-2023",
          "23-Jan-2023",
          "23-Jan-2023",
          "23-Jan-2023",
          "23-Jan-2023",
          "23-Jan-2023",
          "23-Jan-2023",
          "23-Jan-2023",
          "23-Jan-2023",
          "23-Jan-2023",
          "24-Jan-2023",
          "24-Jan-2023",
          "24-Jan-2023",
          "24-Jan-2023",
          "24-Jan-2023",
          "24-Jan-2023",
          "24-Jan-2023",
          "24-Jan-2023",
          "24-Jan-2023",
          "25-Jan-2023",
          "25-Jan-2023",
          "25-Jan-2023",
          "27-Jan-2023",
          "27-Jan-2023",
          "27-Jan-2023",
          "27-Jan-2023",
          "27-Jan-2023",
          "27-Jan-2023",
          "30-Jan-2023",
          "30-Jan-2023",
          "30-Jan-2023",
          "30-Jan-2023",
          "30-Jan-2023",
          "30-Jan-2023",
          "30-Jan-2023",
          "30-Jan-2023",
          "30-Jan-2023",
          "30-Jan-2023",
          "30-Jan-2023",
          "30-Jan-2023",
          "31-Jan-2023",
          "01-Feb-2023",
          "02-Feb-2023",
          "02-Feb-2023",
          "03-Feb-2023",
          "06-Feb-2023",
          "06-Feb-2023",
          "06-Feb-2023",
          "06-Feb-2023",
          "06-Feb-2023",
          "06-Feb-2023",
          "06-Feb-2023",
          "07-Feb-2023",
          "07-Feb-2023",
          "07-Feb-2023",
          "07-Feb-2023",
          "07-Feb-2023",
          "07-Feb-2023",
          "07-Feb-2023",
          "07-Feb-2023",
          "07-Feb-2023",
          "08-Feb-2023",
          "08-Feb-2023",
          "09-Feb-2023",
          "09-Feb-2023",
          "09-Feb-2023",
          "09-Feb-2023",
          "10-Feb-2023",
          "13-Feb-2023",
          "13-Feb-2023",
          "13-Feb-2023",
          "13-Feb-2023",
          "13-Feb-2023",
          "13-Feb-2023",
          "13-Feb-2023",
          "13-Feb-2023",
          "14-Feb-2023",
          "14-Feb-2023",
          "14-Feb-2023",
          "14-Feb-2023",
          "14-Feb-2023",
          "15-Feb-2023",
          "15-Feb-2023",
          "17-Feb-2023",
          "17-Feb-2023",
          "17-Feb-2023",
          "17-Feb-2023",
          "17-Feb-2023",
          "20-Feb-2023",
          "20-Feb-2023",
          "20-Feb-2023",
          "20-Feb-2023",
          "20-Feb-2023",
          "20-Feb-2023",
          "20-Feb-2023",
          "20-Feb-2023",
          "20-Feb-2023",
          "20-Feb-2023",
          "20-Feb-2023",
          "21-Feb-2023",
          "21-Feb-2023",
          "22-Feb-2023",
          "22-Feb-2023",
          "22-Feb-2023",
          "22-Feb-2023",
          "23-Feb-2023",
          "23-Feb-2023",
          "23-Feb-2023",
          "24-Feb-2023",
          "24-Feb-2023",
          "24-Feb-2023",
          "24-Feb-2023",
          "27-Feb-2023",
          "27-Feb-2023",
          "27-Feb-2023",
          "27-Feb-2023",
          "27-Feb-2023",
          "27-Feb-2023",
          "27-Feb-2023",
          "27-Feb-2023",
          "27-Feb-2023",
          "27-Feb-2023",
          "27-Feb-2023",
          "27-Feb-2023",
          "28-Feb-2023",
          "28-Feb-2023",
          "28-Feb-2023",
          "28-Feb-2023",
          "01-Mar-2023",
          "01-Mar-2023",
          "02-Mar-2023",
          "02-Mar-2023",
          "02-Mar-2023",
          "03-Mar-2023",
          "03-Mar-2023",
          "03-Mar-2023",
          "06-Mar-2023",
          "06-Mar-2023",
          "06-Mar-2023",
          "06-Mar-2023",
          "06-Mar-2023",
          "06-Mar-2023",
          "06-Mar-2023",
          "06-Mar-2023",
          "06-Mar-2023",
          "06-Mar-2023",
          "06-Mar-2023",
          "06-Mar-2023",
          "07-Mar-2023",
          "07-Mar-2023",
          "07-Mar-2023",
          "07-Mar-2023",
          "08-Mar-2023",
          "08-Mar-2023",
          "08-Mar-2023",
          "08-Mar-2023",
          "08-Mar-2023",
          "08-Mar-2023",
          "09-Mar-2023",
          "09-Mar-2023",
          "09-Mar-2023",
          "09-Mar-2023",
          "09-Mar-2023",
          "10-Mar-2023",
          "10-Mar-2023",
          "10-Mar-2023",
          "10-Mar-2023",
          "13-Mar-2023",
          "13-Mar-2023",
          "13-Mar-2023",
          "13-Mar-2023",
          "13-Mar-2023",
          "13-Mar-2023",
          "13-Mar-2023",
          "13-Mar-2023",
          "13-Mar-2023",
          "13-Mar-2023",
          "13-Mar-2023",
          "14-Mar-2023",
          "14-Mar-2023",
          "14-Mar-2023",
          "14-Mar-2023",
          "14-Mar-2023",
          "15-Mar-2023",
          "15-Mar-2023",
          "16-Mar-2023",
          "16-Mar-2023",
          "16-Mar-2023",
          "16-Mar-2023",
          "16-Mar-2023",
          "16-Mar-2023",
          "17-Mar-2023",
          "17-Mar-2023",
          "17-Mar-2023",
          "17-Mar-2023",
          "17-Mar-2023",
          "20-Mar-2023",
          "20-Mar-2023",
          "20-Mar-2023",
          "20-Mar-2023",
          "20-Mar-2023",
          "20-Mar-2023",
          "20-Mar-2023",
          "20-Mar-2023",
          "20-Mar-2023",
          "21-Mar-2023",
          "21-Mar-2023",
          "21-Mar-2023",
          "21-Mar-2023",
          "21-Mar-2023",
          "21-Mar-2023",
          "21-Mar-2023",
          "22-Mar-2023",
          "22-Mar-2023",
          "22-Mar-2023",
          "23-Mar-2023",
          "24-Mar-2023",
          "24-Mar-2023",
          "27-Mar-2023",
          "27-Mar-2023",
          "27-Mar-2023",
          "27-Mar-2023",
          "27-Mar-2023",
          "27-Mar-2023",
          "27-Mar-2023",
          "28-Mar-2023",
          "28-Mar-2023",
          "28-Mar-2023",
          "28-Mar-2023",
          "28-Mar-2023",
          "28-Mar-2023",
          "28-Mar-2023",
          "29-Mar-2023",
          "29-Mar-2023",
          "29-Mar-2023",
          "29-Mar-2023",
          "30-Mar-2023",
          "30-Mar-2023",
          "31-Mar-2023",
          "03-Apr-2023",
          "03-Apr-2023",
          "03-Apr-2023",
          "03-Apr-2023",
          "03-Apr-2023",
          "04-Apr-2023",
          "04-Apr-2023",
          "04-Apr-2023",
          "04-Apr-2023",
          "05-Apr-2023",
          "05-Apr-2023",
          "05-Apr-2023",
          "05-Apr-2023",
          "05-Apr-2023",
          "05-Apr-2023",
          "06-Apr-2023",
          "06-Apr-2023",
          "06-Apr-2023",
          "07-Apr-2023",
          "07-Apr-2023",
          "08-Apr-2023",
          "08-Apr-2023",
          "11-Apr-2023",
          "11-Apr-2023",
          "11-Apr-2023",
          "11-Apr-2023",
          "11-Apr-2023",
          "11-Apr-2023",
          "12-Apr-2023",
          "12-Apr-2023",
          "12-Apr-2023",
          "12-Apr-2023",
          "12-Apr-2023",
          "12-Apr-2023",
          "12-Apr-2023",
          "12-Apr-2023",
          "12-Apr-2023",
          "13-Apr-2023",
          "13-Apr-2023",
          "14-Apr-2023",
          "14-Apr-2023",
          "14-Apr-2023",
          "14-Apr-2023",
          "14-Apr-2023",
          "17-Apr-2023",
          "17-Apr-2023",
          "17-Apr-2023",
          "17-Apr-2023",
          "17-Apr-2023",
          "17-Apr-2023",
          "18-Apr-2023",
          "18-Apr-2023",
          "18-Apr-2023",
          "19-Apr-2023",
          "20-Apr-2023",
          "20-Apr-2023",
          "20-Apr-2023",
          "20-Apr-2023",
          "21-Apr-2023",
          "21-Apr-2023",
          "21-Apr-2023",
          "24-Apr-2023",
          "24-Apr-2023",
          "24-Apr-2023",
          "24-Apr-2023",
          "24-Apr-2023",
          "26-Apr-2023",
          "26-Apr-2023",
          "26-Apr-2023",
          "26-Apr-2023",
          "26-Apr-2023",
          "27-Apr-2023",
          "27-Apr-2023",
          "27-Apr-2023",
          "27-Apr-2023",
          "27-Apr-2023",
          "27-Apr-2023",
          "28-Apr-2023",
          "28-Apr-2023",
          "30-Apr-2023",
          "30-Apr-2023",
          "30-Apr-2023",
          "30-Apr-2023",
          "01-May-2023",
          "01-May-2023",
          "01-May-2023",
          "01-May-2023",
          "01-May-2023",
          "01-May-2023",
          "01-May-2023",
          "01-May-2023",
          "01-May-2023",
          "01-May-2023",
          "01-May-2023",
          "01-May-2023",
          "02-May-2023",
          "02-May-2023",
          "02-May-2023",
          "02-May-2023"
         ],
         "tickvals": [
          "2022-11-30T00:00:00",
          "2022-12-01T00:00:00",
          "2022-12-01T00:00:00",
          "2022-12-01T00:00:00",
          "2022-12-01T00:00:00",
          "2022-12-02T00:00:00",
          "2022-12-05T00:00:00",
          "2022-12-05T00:00:00",
          "2022-12-05T00:00:00",
          "2022-12-05T00:00:00",
          "2022-12-05T00:00:00",
          "2022-12-05T00:00:00",
          "2022-12-05T00:00:00",
          "2022-12-05T00:00:00",
          "2022-12-05T00:00:00",
          "2022-12-05T00:00:00",
          "2022-12-07T00:00:00",
          "2022-12-07T00:00:00",
          "2022-12-07T00:00:00",
          "2022-12-07T00:00:00",
          "2022-12-07T00:00:00",
          "2022-12-08T00:00:00",
          "2022-12-09T00:00:00",
          "2022-12-09T00:00:00",
          "2022-12-09T00:00:00",
          "2022-12-12T00:00:00",
          "2022-12-12T00:00:00",
          "2022-12-12T00:00:00",
          "2022-12-12T00:00:00",
          "2022-12-12T00:00:00",
          "2022-12-12T00:00:00",
          "2022-12-12T00:00:00",
          "2022-12-12T00:00:00",
          "2022-12-12T00:00:00",
          "2022-12-12T00:00:00",
          "2022-12-12T00:00:00",
          "2022-12-12T00:00:00",
          "2022-12-12T00:00:00",
          "2022-12-12T00:00:00",
          "2022-12-12T00:00:00",
          "2022-12-12T00:00:00",
          "2022-12-12T00:00:00",
          "2022-12-12T00:00:00",
          "2022-12-13T00:00:00",
          "2022-12-13T00:00:00",
          "2022-12-13T00:00:00",
          "2022-12-14T00:00:00",
          "2022-12-14T00:00:00",
          "2022-12-14T00:00:00",
          "2022-12-14T00:00:00",
          "2022-12-14T00:00:00",
          "2022-12-15T00:00:00",
          "2022-12-15T00:00:00",
          "2022-12-15T00:00:00",
          "2022-12-16T00:00:00",
          "2022-12-16T00:00:00",
          "2022-12-16T00:00:00",
          "2022-12-19T00:00:00",
          "2022-12-19T00:00:00",
          "2022-12-19T00:00:00",
          "2022-12-19T00:00:00",
          "2022-12-20T00:00:00",
          "2022-12-20T00:00:00",
          "2022-12-20T00:00:00",
          "2022-12-20T00:00:00",
          "2022-12-20T00:00:00",
          "2022-12-20T00:00:00",
          "2022-12-21T00:00:00",
          "2022-12-21T00:00:00",
          "2022-12-21T00:00:00",
          "2022-12-21T00:00:00",
          "2022-12-21T00:00:00",
          "2022-12-21T00:00:00",
          "2022-12-21T00:00:00",
          "2022-12-22T00:00:00",
          "2022-12-22T00:00:00",
          "2022-12-22T00:00:00",
          "2022-12-23T00:00:00",
          "2022-12-28T00:00:00",
          "2022-12-28T00:00:00",
          "2022-12-28T00:00:00",
          "2022-12-28T00:00:00",
          "2022-12-29T00:00:00",
          "2022-12-29T00:00:00",
          "2022-12-29T00:00:00",
          "2022-12-29T00:00:00",
          "2022-12-29T00:00:00",
          "2022-12-29T00:00:00",
          "2022-12-29T00:00:00",
          "2022-12-29T00:00:00",
          "2022-12-29T00:00:00",
          "2022-12-29T00:00:00",
          "2022-12-29T00:00:00",
          "2022-12-29T00:00:00",
          "2022-12-29T00:00:00",
          "2022-12-29T00:00:00",
          "2022-12-29T00:00:00",
          "2022-12-29T00:00:00",
          "2022-12-29T00:00:00",
          "2022-12-29T00:00:00",
          "2022-12-29T00:00:00",
          "2022-12-29T00:00:00",
          "2023-01-03T00:00:00",
          "2023-01-03T00:00:00",
          "2023-01-03T00:00:00",
          "2023-01-03T00:00:00",
          "2023-01-03T00:00:00",
          "2023-01-03T00:00:00",
          "2023-01-03T00:00:00",
          "2023-01-03T00:00:00",
          "2023-01-03T00:00:00",
          "2023-01-03T00:00:00",
          "2023-01-03T00:00:00",
          "2023-01-03T00:00:00",
          "2023-01-03T00:00:00",
          "2023-01-03T00:00:00",
          "2023-01-03T00:00:00",
          "2023-01-04T00:00:00",
          "2023-01-04T00:00:00",
          "2023-01-04T00:00:00",
          "2023-01-04T00:00:00",
          "2023-01-05T00:00:00",
          "2023-01-05T00:00:00",
          "2023-01-05T00:00:00",
          "2023-01-05T00:00:00",
          "2023-01-06T00:00:00",
          "2023-01-06T00:00:00",
          "2023-01-06T00:00:00",
          "2023-01-06T00:00:00",
          "2023-01-09T00:00:00",
          "2023-01-09T00:00:00",
          "2023-01-09T00:00:00",
          "2023-01-09T00:00:00",
          "2023-01-09T00:00:00",
          "2023-01-09T00:00:00",
          "2023-01-09T00:00:00",
          "2023-01-10T00:00:00",
          "2023-01-10T00:00:00",
          "2023-01-10T00:00:00",
          "2023-01-10T00:00:00",
          "2023-01-10T00:00:00",
          "2023-01-10T00:00:00",
          "2023-01-10T00:00:00",
          "2023-01-10T00:00:00",
          "2023-01-10T00:00:00",
          "2023-01-10T00:00:00",
          "2023-01-10T00:00:00",
          "2023-01-10T00:00:00",
          "2023-01-10T00:00:00",
          "2023-01-12T00:00:00",
          "2023-01-12T00:00:00",
          "2023-01-12T00:00:00",
          "2023-01-12T00:00:00",
          "2023-01-12T00:00:00",
          "2023-01-13T00:00:00",
          "2023-01-13T00:00:00",
          "2023-01-13T00:00:00",
          "2023-01-16T00:00:00",
          "2023-01-16T00:00:00",
          "2023-01-16T00:00:00",
          "2023-01-16T00:00:00",
          "2023-01-16T00:00:00",
          "2023-01-16T00:00:00",
          "2023-01-17T00:00:00",
          "2023-01-17T00:00:00",
          "2023-01-17T00:00:00",
          "2023-01-18T00:00:00",
          "2023-01-19T00:00:00",
          "2023-01-19T00:00:00",
          "2023-01-19T00:00:00",
          "2023-01-20T00:00:00",
          "2023-01-20T00:00:00",
          "2023-01-20T00:00:00",
          "2023-01-20T00:00:00",
          "2023-01-20T00:00:00",
          "2023-01-23T00:00:00",
          "2023-01-23T00:00:00",
          "2023-01-23T00:00:00",
          "2023-01-23T00:00:00",
          "2023-01-23T00:00:00",
          "2023-01-23T00:00:00",
          "2023-01-23T00:00:00",
          "2023-01-23T00:00:00",
          "2023-01-23T00:00:00",
          "2023-01-23T00:00:00",
          "2023-01-23T00:00:00",
          "2023-01-23T00:00:00",
          "2023-01-24T00:00:00",
          "2023-01-24T00:00:00",
          "2023-01-24T00:00:00",
          "2023-01-24T00:00:00",
          "2023-01-24T00:00:00",
          "2023-01-24T00:00:00",
          "2023-01-24T00:00:00",
          "2023-01-24T00:00:00",
          "2023-01-24T00:00:00",
          "2023-01-25T00:00:00",
          "2023-01-25T00:00:00",
          "2023-01-25T00:00:00",
          "2023-01-27T00:00:00",
          "2023-01-27T00:00:00",
          "2023-01-27T00:00:00",
          "2023-01-27T00:00:00",
          "2023-01-27T00:00:00",
          "2023-01-27T00:00:00",
          "2023-01-30T00:00:00",
          "2023-01-30T00:00:00",
          "2023-01-30T00:00:00",
          "2023-01-30T00:00:00",
          "2023-01-30T00:00:00",
          "2023-01-30T00:00:00",
          "2023-01-30T00:00:00",
          "2023-01-30T00:00:00",
          "2023-01-30T00:00:00",
          "2023-01-30T00:00:00",
          "2023-01-30T00:00:00",
          "2023-01-30T00:00:00",
          "2023-01-31T00:00:00",
          "2023-02-01T00:00:00",
          "2023-02-02T00:00:00",
          "2023-02-02T00:00:00",
          "2023-02-03T00:00:00",
          "2023-02-06T00:00:00",
          "2023-02-06T00:00:00",
          "2023-02-06T00:00:00",
          "2023-02-06T00:00:00",
          "2023-02-06T00:00:00",
          "2023-02-06T00:00:00",
          "2023-02-06T00:00:00",
          "2023-02-07T00:00:00",
          "2023-02-07T00:00:00",
          "2023-02-07T00:00:00",
          "2023-02-07T00:00:00",
          "2023-02-07T00:00:00",
          "2023-02-07T00:00:00",
          "2023-02-07T00:00:00",
          "2023-02-07T00:00:00",
          "2023-02-07T00:00:00",
          "2023-02-08T00:00:00",
          "2023-02-08T00:00:00",
          "2023-02-09T00:00:00",
          "2023-02-09T00:00:00",
          "2023-02-09T00:00:00",
          "2023-02-09T00:00:00",
          "2023-02-10T00:00:00",
          "2023-02-13T00:00:00",
          "2023-02-13T00:00:00",
          "2023-02-13T00:00:00",
          "2023-02-13T00:00:00",
          "2023-02-13T00:00:00",
          "2023-02-13T00:00:00",
          "2023-02-13T00:00:00",
          "2023-02-13T00:00:00",
          "2023-02-14T00:00:00",
          "2023-02-14T00:00:00",
          "2023-02-14T00:00:00",
          "2023-02-14T00:00:00",
          "2023-02-14T00:00:00",
          "2023-02-15T00:00:00",
          "2023-02-15T00:00:00",
          "2023-02-17T00:00:00",
          "2023-02-17T00:00:00",
          "2023-02-17T00:00:00",
          "2023-02-17T00:00:00",
          "2023-02-17T00:00:00",
          "2023-02-20T00:00:00",
          "2023-02-20T00:00:00",
          "2023-02-20T00:00:00",
          "2023-02-20T00:00:00",
          "2023-02-20T00:00:00",
          "2023-02-20T00:00:00",
          "2023-02-20T00:00:00",
          "2023-02-20T00:00:00",
          "2023-02-20T00:00:00",
          "2023-02-20T00:00:00",
          "2023-02-20T00:00:00",
          "2023-02-21T00:00:00",
          "2023-02-21T00:00:00",
          "2023-02-22T00:00:00",
          "2023-02-22T00:00:00",
          "2023-02-22T00:00:00",
          "2023-02-22T00:00:00",
          "2023-02-23T00:00:00",
          "2023-02-23T00:00:00",
          "2023-02-23T00:00:00",
          "2023-02-24T00:00:00",
          "2023-02-24T00:00:00",
          "2023-02-24T00:00:00",
          "2023-02-24T00:00:00",
          "2023-02-27T00:00:00",
          "2023-02-27T00:00:00",
          "2023-02-27T00:00:00",
          "2023-02-27T00:00:00",
          "2023-02-27T00:00:00",
          "2023-02-27T00:00:00",
          "2023-02-27T00:00:00",
          "2023-02-27T00:00:00",
          "2023-02-27T00:00:00",
          "2023-02-27T00:00:00",
          "2023-02-27T00:00:00",
          "2023-02-27T00:00:00",
          "2023-02-28T00:00:00",
          "2023-02-28T00:00:00",
          "2023-02-28T00:00:00",
          "2023-02-28T00:00:00",
          "2023-03-01T00:00:00",
          "2023-03-01T00:00:00",
          "2023-03-02T00:00:00",
          "2023-03-02T00:00:00",
          "2023-03-02T00:00:00",
          "2023-03-03T00:00:00",
          "2023-03-03T00:00:00",
          "2023-03-03T00:00:00",
          "2023-03-06T00:00:00",
          "2023-03-06T00:00:00",
          "2023-03-06T00:00:00",
          "2023-03-06T00:00:00",
          "2023-03-06T00:00:00",
          "2023-03-06T00:00:00",
          "2023-03-06T00:00:00",
          "2023-03-06T00:00:00",
          "2023-03-06T00:00:00",
          "2023-03-06T00:00:00",
          "2023-03-06T00:00:00",
          "2023-03-06T00:00:00",
          "2023-03-07T00:00:00",
          "2023-03-07T00:00:00",
          "2023-03-07T00:00:00",
          "2023-03-07T00:00:00",
          "2023-03-08T00:00:00",
          "2023-03-08T00:00:00",
          "2023-03-08T00:00:00",
          "2023-03-08T00:00:00",
          "2023-03-08T00:00:00",
          "2023-03-08T00:00:00",
          "2023-03-09T00:00:00",
          "2023-03-09T00:00:00",
          "2023-03-09T00:00:00",
          "2023-03-09T00:00:00",
          "2023-03-09T00:00:00",
          "2023-03-10T00:00:00",
          "2023-03-10T00:00:00",
          "2023-03-10T00:00:00",
          "2023-03-10T00:00:00",
          "2023-03-13T00:00:00",
          "2023-03-13T00:00:00",
          "2023-03-13T00:00:00",
          "2023-03-13T00:00:00",
          "2023-03-13T00:00:00",
          "2023-03-13T00:00:00",
          "2023-03-13T00:00:00",
          "2023-03-13T00:00:00",
          "2023-03-13T00:00:00",
          "2023-03-13T00:00:00",
          "2023-03-13T00:00:00",
          "2023-03-14T00:00:00",
          "2023-03-14T00:00:00",
          "2023-03-14T00:00:00",
          "2023-03-14T00:00:00",
          "2023-03-14T00:00:00",
          "2023-03-15T00:00:00",
          "2023-03-15T00:00:00",
          "2023-03-16T00:00:00",
          "2023-03-16T00:00:00",
          "2023-03-16T00:00:00",
          "2023-03-16T00:00:00",
          "2023-03-16T00:00:00",
          "2023-03-16T00:00:00",
          "2023-03-17T00:00:00",
          "2023-03-17T00:00:00",
          "2023-03-17T00:00:00",
          "2023-03-17T00:00:00",
          "2023-03-17T00:00:00",
          "2023-03-20T00:00:00",
          "2023-03-20T00:00:00",
          "2023-03-20T00:00:00",
          "2023-03-20T00:00:00",
          "2023-03-20T00:00:00",
          "2023-03-20T00:00:00",
          "2023-03-20T00:00:00",
          "2023-03-20T00:00:00",
          "2023-03-20T00:00:00",
          "2023-03-21T00:00:00",
          "2023-03-21T00:00:00",
          "2023-03-21T00:00:00",
          "2023-03-21T00:00:00",
          "2023-03-21T00:00:00",
          "2023-03-21T00:00:00",
          "2023-03-21T00:00:00",
          "2023-03-22T00:00:00",
          "2023-03-22T00:00:00",
          "2023-03-22T00:00:00",
          "2023-03-23T00:00:00",
          "2023-03-24T00:00:00",
          "2023-03-24T00:00:00",
          "2023-03-27T00:00:00",
          "2023-03-27T00:00:00",
          "2023-03-27T00:00:00",
          "2023-03-27T00:00:00",
          "2023-03-27T00:00:00",
          "2023-03-27T00:00:00",
          "2023-03-27T00:00:00",
          "2023-03-28T00:00:00",
          "2023-03-28T00:00:00",
          "2023-03-28T00:00:00",
          "2023-03-28T00:00:00",
          "2023-03-28T00:00:00",
          "2023-03-28T00:00:00",
          "2023-03-28T00:00:00",
          "2023-03-29T00:00:00",
          "2023-03-29T00:00:00",
          "2023-03-29T00:00:00",
          "2023-03-29T00:00:00",
          "2023-03-30T00:00:00",
          "2023-03-30T00:00:00",
          "2023-03-31T00:00:00",
          "2023-04-03T00:00:00",
          "2023-04-03T00:00:00",
          "2023-04-03T00:00:00",
          "2023-04-03T00:00:00",
          "2023-04-03T00:00:00",
          "2023-04-04T00:00:00",
          "2023-04-04T00:00:00",
          "2023-04-04T00:00:00",
          "2023-04-04T00:00:00",
          "2023-04-05T00:00:00",
          "2023-04-05T00:00:00",
          "2023-04-05T00:00:00",
          "2023-04-05T00:00:00",
          "2023-04-05T00:00:00",
          "2023-04-05T00:00:00",
          "2023-04-06T00:00:00",
          "2023-04-06T00:00:00",
          "2023-04-06T00:00:00",
          "2023-04-07T00:00:00",
          "2023-04-07T00:00:00",
          "2023-04-08T00:00:00",
          "2023-04-08T00:00:00",
          "2023-04-11T00:00:00",
          "2023-04-11T00:00:00",
          "2023-04-11T00:00:00",
          "2023-04-11T00:00:00",
          "2023-04-11T00:00:00",
          "2023-04-11T00:00:00",
          "2023-04-12T00:00:00",
          "2023-04-12T00:00:00",
          "2023-04-12T00:00:00",
          "2023-04-12T00:00:00",
          "2023-04-12T00:00:00",
          "2023-04-12T00:00:00",
          "2023-04-12T00:00:00",
          "2023-04-12T00:00:00",
          "2023-04-12T00:00:00",
          "2023-04-13T00:00:00",
          "2023-04-13T00:00:00",
          "2023-04-14T00:00:00",
          "2023-04-14T00:00:00",
          "2023-04-14T00:00:00",
          "2023-04-14T00:00:00",
          "2023-04-14T00:00:00",
          "2023-04-17T00:00:00",
          "2023-04-17T00:00:00",
          "2023-04-17T00:00:00",
          "2023-04-17T00:00:00",
          "2023-04-17T00:00:00",
          "2023-04-17T00:00:00",
          "2023-04-18T00:00:00",
          "2023-04-18T00:00:00",
          "2023-04-18T00:00:00",
          "2023-04-19T00:00:00",
          "2023-04-20T00:00:00",
          "2023-04-20T00:00:00",
          "2023-04-20T00:00:00",
          "2023-04-20T00:00:00",
          "2023-04-21T00:00:00",
          "2023-04-21T00:00:00",
          "2023-04-21T00:00:00",
          "2023-04-24T00:00:00",
          "2023-04-24T00:00:00",
          "2023-04-24T00:00:00",
          "2023-04-24T00:00:00",
          "2023-04-24T00:00:00",
          "2023-04-26T00:00:00",
          "2023-04-26T00:00:00",
          "2023-04-26T00:00:00",
          "2023-04-26T00:00:00",
          "2023-04-26T00:00:00",
          "2023-04-27T00:00:00",
          "2023-04-27T00:00:00",
          "2023-04-27T00:00:00",
          "2023-04-27T00:00:00",
          "2023-04-27T00:00:00",
          "2023-04-27T00:00:00",
          "2023-04-28T00:00:00",
          "2023-04-28T00:00:00",
          "2023-04-30T00:00:00",
          "2023-04-30T00:00:00",
          "2023-04-30T00:00:00",
          "2023-04-30T00:00:00",
          "2023-05-01T00:00:00",
          "2023-05-01T00:00:00",
          "2023-05-01T00:00:00",
          "2023-05-01T00:00:00",
          "2023-05-01T00:00:00",
          "2023-05-01T00:00:00",
          "2023-05-01T00:00:00",
          "2023-05-01T00:00:00",
          "2023-05-01T00:00:00",
          "2023-05-01T00:00:00",
          "2023-05-01T00:00:00",
          "2023-05-01T00:00:00",
          "2023-05-02T00:00:00",
          "2023-05-02T00:00:00",
          "2023-05-02T00:00:00",
          "2023-05-02T00:00:00"
         ],
         "title": {
          "text": "Fornight pay date"
         }
        },
        "yaxis": {
         "anchor": "x",
         "domain": [
          0,
          1
         ],
         "range": [
          0,
          [
           4457.4800000000005
          ]
         ],
         "showgrid": false,
         "tickfont": {
          "color": "black",
          "family": "Arial",
          "size": 14
         },
         "title": {
          "text": "Total"
         }
        }
       }
      }
     },
     "metadata": {},
     "output_type": "display_data"
    }
   ],
   "source": [
    "def filter_bar_chart(data, fortnights: list):\n",
    "\n",
    "    data1 = data.query('Date in @fortnights')\n",
    "\n",
    "    fig = px.histogram(data1, x='Date', y='Amount',color='Category', color_discrete_sequence=px.colors.qualitative.Dark24, text_auto='.2f')\n",
    "    fig.update_layout(\n",
    "        plot_bgcolor='rgba(0,0,0,0)', \n",
    "        bargap=0.3,\n",
    "        xaxis_title_text='Fornight pay date', \n",
    "        yaxis_title_text='Total',\n",
    "        font_family='Arial',\n",
    "        xaxis=dict(tickmode='array', tickvals= data2['Date'], ticktext = data2['Date'].apply(lambda x: x.strftime('%d-%b-%Y')),automargin=True)\n",
    "        ),\n",
    "    fig.update_yaxes(showgrid=False, range=[0,data1.max(numeric_only=True)], tickfont=dict(family='Arial', color='black', size=14))\n",
    "    fig.update_xaxes(tickfont=dict(family='Arial', color='black', size=14))\n",
    "    fig.show()\n",
    "\n",
    "filter_bar_chart(df3, ['2022-11-30'])\n"
   ]
  }
 ],
 "metadata": {
  "kernelspec": {
   "display_name": "Budget",
   "language": "python",
   "name": "python3"
  },
  "language_info": {
   "codemirror_mode": {
    "name": "ipython",
    "version": 3
   },
   "file_extension": ".py",
   "mimetype": "text/x-python",
   "name": "python",
   "nbconvert_exporter": "python",
   "pygments_lexer": "ipython3",
   "version": "3.11.2"
  },
  "orig_nbformat": 4
 },
 "nbformat": 4,
 "nbformat_minor": 2
}
